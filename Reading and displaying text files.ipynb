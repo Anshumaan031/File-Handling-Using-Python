{
 "cells": [
  {
   "cell_type": "code",
   "execution_count": 1,
   "metadata": {
    "id": "ZtLeFQ1SZKyY"
   },
   "outputs": [],
   "source": [
    "# Package Importing\n",
    "import requests\n",
    "from sklearn import datasets\n",
    "from bs4 import BeautifulSoup\n",
    "import zipfile\n",
    "import re\n",
    "import numpy as np"
   ]
  },
  {
   "cell_type": "code",
   "execution_count": 2,
   "metadata": {
    "colab": {
     "base_uri": "https://localhost:8080/",
     "height": 74,
     "resources": {
      "http://localhost:8080/nbextensions/google.colab/files.js": {
       "data": "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",
       "headers": [
        [
         "content-type",
         "application/javascript"
        ]
       ],
       "ok": true,
       "status": 200,
       "status_text": "OK"
      }
     }
    },
    "id": "6TpwbKyshbjO",
    "outputId": "5fd1df16-dc9f-4029-d506-423d73b657ba"
   },
   "outputs": [
    {
     "ename": "ModuleNotFoundError",
     "evalue": "No module named 'google'",
     "output_type": "error",
     "traceback": [
      "\u001b[1;31m---------------------------------------------------------------------------\u001b[0m",
      "\u001b[1;31mModuleNotFoundError\u001b[0m                       Traceback (most recent call last)",
      "\u001b[1;32m<ipython-input-2-24bf6397e1b0>\u001b[0m in \u001b[0;36m<module>\u001b[1;34m\u001b[0m\n\u001b[0;32m      1\u001b[0m \u001b[1;31m# Files upload\u001b[0m\u001b[1;33m\u001b[0m\u001b[1;33m\u001b[0m\u001b[1;33m\u001b[0m\u001b[0m\n\u001b[1;32m----> 2\u001b[1;33m \u001b[1;32mfrom\u001b[0m \u001b[0mgoogle\u001b[0m\u001b[1;33m.\u001b[0m\u001b[0mcolab\u001b[0m \u001b[1;32mimport\u001b[0m \u001b[0mfiles\u001b[0m\u001b[1;33m\u001b[0m\u001b[1;33m\u001b[0m\u001b[0m\n\u001b[0m\u001b[0;32m      3\u001b[0m \u001b[0muploaded\u001b[0m \u001b[1;33m=\u001b[0m \u001b[0mfiles\u001b[0m\u001b[1;33m.\u001b[0m\u001b[0mupload\u001b[0m\u001b[1;33m(\u001b[0m\u001b[1;33m)\u001b[0m\u001b[1;33m\u001b[0m\u001b[1;33m\u001b[0m\u001b[0m\n",
      "\u001b[1;31mModuleNotFoundError\u001b[0m: No module named 'google'"
     ]
    }
   ],
   "source": [
    "# Files upload\n",
    "from google.colab import files\n",
    "uploaded = files.upload()"
   ]
  },
  {
   "cell_type": "code",
   "execution_count": null,
   "metadata": {
    "colab": {
     "base_uri": "https://localhost:8080/"
    },
    "id": "GFemclNdB3Pm",
    "outputId": "a062fa1a-91ce-437f-ec22-b457155c2daf"
   },
   "outputs": [
    {
     "data": {
      "text/plain": [
       "466550"
      ]
     },
     "execution_count": 3,
     "metadata": {},
     "output_type": "execute_result"
    }
   ],
   "source": [
    "# List of english dictionary words\n",
    "url = 'https://raw.githubusercontent.com/dwyl/english-words/master/words.txt'\n",
    "# wordlist\n",
    "dictwords = requests.get(url).text\n",
    "wordlist=list(dictwords.split())\n",
    "len(wordlist)"
   ]
  },
  {
   "cell_type": "code",
   "execution_count": null,
   "metadata": {
    "id": "kiRnj6kygWOi"
   },
   "outputs": [],
   "source": [
    "# openeing the zip file\n",
    "with zipfile.ZipFile(\"Articles.zip\",\"r\") as zip_ref:\n",
    "  zip_ref.extractall(\"targetdir/Articles\")"
   ]
  },
  {
   "cell_type": "code",
   "execution_count": null,
   "metadata": {
    "id": "zIlbctnXd6-E"
   },
   "outputs": [],
   "source": [
    "# getting the data from extracted folder\n",
    "data = datasets.load_files('/content/targetdir',shuffle=True,encoding='utf-8')\n",
    "train_data=data.data"
   ]
  },
  {
   "cell_type": "code",
   "execution_count": null,
   "metadata": {
    "id": "r0Ln2Q1ViU74"
   },
   "outputs": [],
   "source": [
    "# len(train_data)"
   ]
  },
  {
   "cell_type": "code",
   "execution_count": null,
   "metadata": {
    "id": "RmAmRTICkvzk"
   },
   "outputs": [],
   "source": [
    "# preping the data\n",
    "prep_data=[]\n",
    "for x in range(len(train_data)):\n",
    "  prep_data.append(re.sub(r'\\W+', ' ', train_data[x].lower()))\n",
    "# prep_data[0]\n",
    "clean_data = [word for word in prep_data if word not in wordlist]"
   ]
  },
  {
   "cell_type": "code",
   "execution_count": null,
   "metadata": {
    "id": "6HGATjr3hNvb"
   },
   "outputs": [],
   "source": [
    "# Opertation to find number of times a word is present \n",
    "def findWords(a):\n",
    "  dict={}\n",
    "  wordtofind=re.sub(r'\\W+', ' ', a.lower())\n",
    "  if(wordtofind in wordlist):\n",
    "    for x in range(len(clean_data)):\n",
    "      s=clean_data[x].split()\n",
    "      dict.update({\"Document no {}\".format(x+1):s.count(a)})\n",
    "  return sorted(list(dict.items()),reverse=True)"
   ]
  },
  {
   "cell_type": "code",
   "execution_count": null,
   "metadata": {
    "colab": {
     "base_uri": "https://localhost:8080/"
    },
    "id": "ENjTi_gXYDHk",
    "outputId": "4b2cd36e-cd02-4e1c-86a6-55e1a81d32a0"
   },
   "outputs": [
    {
     "data": {
      "text/plain": [
       "[('Document no 99', 16),\n",
       " ('Document no 98', 11),\n",
       " ('Document no 97', 22),\n",
       " ('Document no 96', 35),\n",
       " ('Document no 95', 42),\n",
       " ('Document no 94', 48),\n",
       " ('Document no 93', 31),\n",
       " ('Document no 92', 9),\n",
       " ('Document no 91', 21),\n",
       " ('Document no 90', 19),\n",
       " ('Document no 9', 49),\n",
       " ('Document no 89', 39),\n",
       " ('Document no 88', 35),\n",
       " ('Document no 87', 102),\n",
       " ('Document no 86', 31),\n",
       " ('Document no 85', 25),\n",
       " ('Document no 84', 17),\n",
       " ('Document no 83', 89),\n",
       " ('Document no 82', 8),\n",
       " ('Document no 81', 36),\n",
       " ('Document no 80', 17),\n",
       " ('Document no 8', 28),\n",
       " ('Document no 79', 26),\n",
       " ('Document no 78', 51),\n",
       " ('Document no 77', 10),\n",
       " ('Document no 76', 48),\n",
       " ('Document no 75', 53),\n",
       " ('Document no 74', 28),\n",
       " ('Document no 73', 43),\n",
       " ('Document no 72', 72),\n",
       " ('Document no 71', 27),\n",
       " ('Document no 70', 31),\n",
       " ('Document no 7', 21),\n",
       " ('Document no 69', 42),\n",
       " ('Document no 68', 19),\n",
       " ('Document no 67', 19),\n",
       " ('Document no 66', 55),\n",
       " ('Document no 65', 71),\n",
       " ('Document no 64', 49),\n",
       " ('Document no 63', 21),\n",
       " ('Document no 62', 46),\n",
       " ('Document no 61', 28),\n",
       " ('Document no 60', 27),\n",
       " ('Document no 6', 164),\n",
       " ('Document no 59', 45),\n",
       " ('Document no 58', 46),\n",
       " ('Document no 57', 56),\n",
       " ('Document no 56', 50),\n",
       " ('Document no 55', 23),\n",
       " ('Document no 54', 48),\n",
       " ('Document no 53', 73),\n",
       " ('Document no 52', 22),\n",
       " ('Document no 51', 48),\n",
       " ('Document no 50', 36),\n",
       " ('Document no 5', 27),\n",
       " ('Document no 49', 22),\n",
       " ('Document no 48', 58),\n",
       " ('Document no 47', 34),\n",
       " ('Document no 46', 6),\n",
       " ('Document no 45', 42),\n",
       " ('Document no 44', 25),\n",
       " ('Document no 43', 74),\n",
       " ('Document no 42', 21),\n",
       " ('Document no 41', 18),\n",
       " ('Document no 40', 31),\n",
       " ('Document no 4', 15),\n",
       " ('Document no 39', 29),\n",
       " ('Document no 38', 30),\n",
       " ('Document no 37', 115),\n",
       " ('Document no 36', 34),\n",
       " ('Document no 35', 121),\n",
       " ('Document no 34', 46),\n",
       " ('Document no 33', 25),\n",
       " ('Document no 32', 34),\n",
       " ('Document no 31', 27),\n",
       " ('Document no 30', 15),\n",
       " ('Document no 3', 40),\n",
       " ('Document no 29', 82),\n",
       " ('Document no 28', 20),\n",
       " ('Document no 27', 19),\n",
       " ('Document no 26', 43),\n",
       " ('Document no 253', 39),\n",
       " ('Document no 252', 25),\n",
       " ('Document no 251', 17),\n",
       " ('Document no 250', 45),\n",
       " ('Document no 25', 20),\n",
       " ('Document no 249', 23),\n",
       " ('Document no 248', 34),\n",
       " ('Document no 247', 21),\n",
       " ('Document no 246', 45),\n",
       " ('Document no 245', 74),\n",
       " ('Document no 244', 52),\n",
       " ('Document no 243', 48),\n",
       " ('Document no 242', 28),\n",
       " ('Document no 241', 98),\n",
       " ('Document no 240', 61),\n",
       " ('Document no 24', 12),\n",
       " ('Document no 239', 57),\n",
       " ('Document no 238', 24),\n",
       " ('Document no 237', 23),\n",
       " ('Document no 236', 30),\n",
       " ('Document no 235', 42),\n",
       " ('Document no 234', 42),\n",
       " ('Document no 233', 29),\n",
       " ('Document no 232', 53),\n",
       " ('Document no 231', 65),\n",
       " ('Document no 230', 51),\n",
       " ('Document no 23', 28),\n",
       " ('Document no 229', 51),\n",
       " ('Document no 228', 77),\n",
       " ('Document no 227', 48),\n",
       " ('Document no 226', 46),\n",
       " ('Document no 225', 34),\n",
       " ('Document no 224', 29),\n",
       " ('Document no 223', 21),\n",
       " ('Document no 222', 26),\n",
       " ('Document no 221', 46),\n",
       " ('Document no 220', 40),\n",
       " ('Document no 22', 15),\n",
       " ('Document no 219', 31),\n",
       " ('Document no 218', 57),\n",
       " ('Document no 217', 28),\n",
       " ('Document no 216', 23),\n",
       " ('Document no 215', 40),\n",
       " ('Document no 214', 91),\n",
       " ('Document no 213', 31),\n",
       " ('Document no 212', 23),\n",
       " ('Document no 211', 33),\n",
       " ('Document no 210', 20),\n",
       " ('Document no 21', 29),\n",
       " ('Document no 209', 31),\n",
       " ('Document no 208', 29),\n",
       " ('Document no 207', 60),\n",
       " ('Document no 206', 46),\n",
       " ('Document no 205', 46),\n",
       " ('Document no 204', 17),\n",
       " ('Document no 203', 16),\n",
       " ('Document no 202', 38),\n",
       " ('Document no 201', 18),\n",
       " ('Document no 200', 61),\n",
       " ('Document no 20', 32),\n",
       " ('Document no 2', 62),\n",
       " ('Document no 199', 7),\n",
       " ('Document no 198', 29),\n",
       " ('Document no 197', 37),\n",
       " ('Document no 196', 31),\n",
       " ('Document no 195', 26),\n",
       " ('Document no 194', 51),\n",
       " ('Document no 193', 17),\n",
       " ('Document no 192', 18),\n",
       " ('Document no 191', 15),\n",
       " ('Document no 190', 64),\n",
       " ('Document no 19', 54),\n",
       " ('Document no 189', 51),\n",
       " ('Document no 188', 51),\n",
       " ('Document no 187', 18),\n",
       " ('Document no 186', 20),\n",
       " ('Document no 185', 41),\n",
       " ('Document no 184', 41),\n",
       " ('Document no 183', 24),\n",
       " ('Document no 182', 28),\n",
       " ('Document no 181', 18),\n",
       " ('Document no 180', 66),\n",
       " ('Document no 18', 21),\n",
       " ('Document no 179', 44),\n",
       " ('Document no 178', 24),\n",
       " ('Document no 177', 32),\n",
       " ('Document no 176', 18),\n",
       " ('Document no 175', 31),\n",
       " ('Document no 174', 62),\n",
       " ('Document no 173', 38),\n",
       " ('Document no 172', 25),\n",
       " ('Document no 171', 57),\n",
       " ('Document no 170', 40),\n",
       " ('Document no 17', 50),\n",
       " ('Document no 169', 37),\n",
       " ('Document no 168', 23),\n",
       " ('Document no 167', 12),\n",
       " ('Document no 166', 29),\n",
       " ('Document no 165', 41),\n",
       " ('Document no 164', 47),\n",
       " ('Document no 163', 52),\n",
       " ('Document no 162', 46),\n",
       " ('Document no 161', 20),\n",
       " ('Document no 160', 35),\n",
       " ('Document no 16', 51),\n",
       " ('Document no 159', 28),\n",
       " ('Document no 158', 11),\n",
       " ('Document no 157', 29),\n",
       " ('Document no 156', 31),\n",
       " ('Document no 155', 9),\n",
       " ('Document no 154', 44),\n",
       " ('Document no 153', 41),\n",
       " ('Document no 152', 23),\n",
       " ('Document no 151', 24),\n",
       " ('Document no 150', 26),\n",
       " ('Document no 15', 5),\n",
       " ('Document no 149', 52),\n",
       " ('Document no 148', 51),\n",
       " ('Document no 147', 23),\n",
       " ('Document no 146', 12),\n",
       " ('Document no 145', 12),\n",
       " ('Document no 144', 33),\n",
       " ('Document no 143', 73),\n",
       " ('Document no 142', 100),\n",
       " ('Document no 141', 48),\n",
       " ('Document no 140', 38),\n",
       " ('Document no 14', 44),\n",
       " ('Document no 139', 17),\n",
       " ('Document no 138', 18),\n",
       " ('Document no 137', 22),\n",
       " ('Document no 136', 16),\n",
       " ('Document no 135', 34),\n",
       " ('Document no 134', 20),\n",
       " ('Document no 133', 39),\n",
       " ('Document no 132', 18),\n",
       " ('Document no 131', 72),\n",
       " ('Document no 130', 72),\n",
       " ('Document no 13', 19),\n",
       " ('Document no 129', 39),\n",
       " ('Document no 128', 138),\n",
       " ('Document no 127', 33),\n",
       " ('Document no 126', 11),\n",
       " ('Document no 125', 85),\n",
       " ('Document no 124', 22),\n",
       " ('Document no 123', 24),\n",
       " ('Document no 122', 46),\n",
       " ('Document no 121', 29),\n",
       " ('Document no 120', 43),\n",
       " ('Document no 12', 66),\n",
       " ('Document no 119', 36),\n",
       " ('Document no 118', 30),\n",
       " ('Document no 117', 34),\n",
       " ('Document no 116', 31),\n",
       " ('Document no 115', 51),\n",
       " ('Document no 114', 63),\n",
       " ('Document no 113', 17),\n",
       " ('Document no 112', 52),\n",
       " ('Document no 111', 27),\n",
       " ('Document no 110', 21),\n",
       " ('Document no 11', 24),\n",
       " ('Document no 109', 12),\n",
       " ('Document no 108', 27),\n",
       " ('Document no 107', 53),\n",
       " ('Document no 106', 37),\n",
       " ('Document no 105', 49),\n",
       " ('Document no 104', 76),\n",
       " ('Document no 103', 45),\n",
       " ('Document no 102', 11),\n",
       " ('Document no 101', 40),\n",
       " ('Document no 100', 16),\n",
       " ('Document no 10', 11),\n",
       " ('Document no 1', 21)]"
      ]
     },
     "execution_count": 24,
     "metadata": {},
     "output_type": "execute_result"
    }
   ],
   "source": [
    "results=findWords('the')\n",
    "results"
   ]
  }
 ],
 "metadata": {
  "colab": {
   "collapsed_sections": [],
   "name": "Week2_Part2.ipynb",
   "provenance": []
  },
  "kernelspec": {
   "display_name": "Python 3",
   "language": "python",
   "name": "python3"
  },
  "language_info": {
   "codemirror_mode": {
    "name": "ipython",
    "version": 3
   },
   "file_extension": ".py",
   "mimetype": "text/x-python",
   "name": "python",
   "nbconvert_exporter": "python",
   "pygments_lexer": "ipython3",
   "version": "3.8.5"
  }
 },
 "nbformat": 4,
 "nbformat_minor": 1
}
